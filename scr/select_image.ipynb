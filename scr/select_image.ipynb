{
 "cells": [
  {
   "cell_type": "code",
   "id": "initial_id",
   "metadata": {
    "collapsed": true,
    "ExecuteTime": {
     "end_time": "2025-07-07T04:30:22.050750Z",
     "start_time": "2025-07-07T04:30:21.316109Z"
    }
   },
   "source": [
    "import os\n",
    "import numpy as np\n",
    "import pandas as pd\n",
    "import matplotlib.pyplot as plt\n",
    "from matplotlib.patches import Rectangle\n",
    "from PIL import Image"
   ],
   "outputs": [],
   "execution_count": 1
  },
  {
   "metadata": {
    "ExecuteTime": {
     "end_time": "2025-07-07T04:30:22.193812Z",
     "start_time": "2025-07-07T04:30:22.189367Z"
    }
   },
   "cell_type": "code",
   "source": [
    "# === Set paths ===\n",
    "project_dir = os.path.dirname(os.getcwd())\n",
    "sheet_path = os.path.join(project_dir, 'rendering', 'pre_choice.xlsx')  # Update if needed\n",
    "output_folder = os.path.join(project_dir, 'image')\n",
    "output_excel_path = os.path.join(output_folder, 'result_df_selected.xlsx')"
   ],
   "id": "dd5b94e14b015b6f",
   "outputs": [],
   "execution_count": 2
  },
  {
   "metadata": {
    "ExecuteTime": {
     "end_time": "2025-07-07T04:30:22.404263Z",
     "start_time": "2025-07-07T04:30:22.208796Z"
    }
   },
   "cell_type": "code",
   "source": "result_df = pd.read_excel(sheet_path)",
   "id": "c609e19a1f11670b",
   "outputs": [],
   "execution_count": 3
  },
  {
   "metadata": {
    "ExecuteTime": {
     "end_time": "2025-07-07T04:30:22.424149Z",
     "start_time": "2025-07-07T04:30:22.416823Z"
    }
   },
   "cell_type": "code",
   "source": [
    "# === Define rendering functions ===\n",
    "def save_problem_grid(image, filename):\n",
    "    fig = plt.figure(figsize=(10, 10))\n",
    "    for i in range(8):\n",
    "        ax = plt.subplot(3, 3, i + 1)\n",
    "        ax.imshow(image[i], cmap='gray')\n",
    "        ax.axis('off')\n",
    "        rect = Rectangle((0, 0), 1, 1, transform=ax.transAxes, color='gray', fill=False, lw=1.8)\n",
    "        ax.add_patch(rect)\n",
    "    ax = plt.subplot(3, 3, 9)\n",
    "    ax.text(0.5, 0.5, '?', fontsize=40, ha='center', va='center')\n",
    "    ax.axis('off')\n",
    "    rect = Rectangle((0, 0), 1, 1, transform=ax.transAxes, color='gray', fill=False, lw=1.8)\n",
    "    ax.add_patch(rect)\n",
    "    plt.subplots_adjust(wspace=0.1, hspace=0.1)\n",
    "    plt.savefig(filename)\n",
    "    plt.close(fig)\n",
    "\n",
    "def save_choices_plot(image, target, filename):\n",
    "    fig = plt.figure(figsize=(12, 6))\n",
    "    for i in range(8, 16):\n",
    "        ax = plt.subplot(2, 4, i - 7)\n",
    "        ax.set_title(f\"Choice {i - 7}\")\n",
    "        ax.imshow(image[i], cmap='gray')\n",
    "        ax.axis('off')\n",
    "        rect = Rectangle((0, 0), 1, 1, transform=ax.transAxes, color='gray', fill=False, lw=1.8)\n",
    "        ax.add_patch(rect)\n",
    "    plt.subplots_adjust(wspace=0.1, hspace=0.3)\n",
    "    plt.savefig(filename)\n",
    "    plt.close(fig)"
   ],
   "id": "d7af60378d27000c",
   "outputs": [],
   "execution_count": 4
  },
  {
   "metadata": {
    "ExecuteTime": {
     "end_time": "2025-07-07T04:30:22.440885Z",
     "start_time": "2025-07-07T04:30:22.437894Z"
    }
   },
   "cell_type": "code",
   "source": [
    "# === Design folder mapping ===\n",
    "design_paths = {\n",
    "    'In_Out_Center_Single': 'output/in_center_single_out_center_single',\n",
    "    'In_Out_Distribute_Four': 'output/in_distribute_four_out_center_single',\n",
    "    'Left_Right_Single': 'output/left_center_single_right_center_single',\n",
    "    'Up_Down_Single': 'output/up_center_single_down_center_single',\n",
    "}\n"
   ],
   "id": "1fece632b2030b28",
   "outputs": [],
   "execution_count": 5
  },
  {
   "metadata": {
    "ExecuteTime": {
     "end_time": "2025-07-07T04:30:22.461400Z",
     "start_time": "2025-07-07T04:30:22.458398Z"
    }
   },
   "cell_type": "code",
   "source": [
    "# === Prepare output tracking ===\n",
    "records = []"
   ],
   "id": "439a9ae9a1050328",
   "outputs": [],
   "execution_count": 6
  },
  {
   "metadata": {
    "ExecuteTime": {
     "end_time": "2025-07-07T04:31:00.248679Z",
     "start_time": "2025-07-07T04:30:22.469428Z"
    }
   },
   "cell_type": "code",
   "source": [
    "# === Loop through each selected item ===\n",
    "for idx, row in result_df.iterrows():\n",
    "    new_item = row.get('New_Item')\n",
    "    design = row['Design']\n",
    "    file_name = new_item if isinstance(new_item, str) else None\n",
    "\n",
    "    if not file_name or design not in design_paths:\n",
    "        continue\n",
    "\n",
    "    npz_path = os.path.join(project_dir, design_paths[design], file_name + '.npz')\n",
    "    if not os.path.exists(npz_path):\n",
    "        print(f\"Missing file: {npz_path}\")\n",
    "        continue\n",
    "\n",
    "    # === Load data and extract target ===\n",
    "    data = np.load(npz_path)\n",
    "    image = data['image']\n",
    "    target = int(data['target'])\n",
    "    target_plus_one = target + 1\n",
    "\n",
    "    # === Render and combine ===\n",
    "    temp_dir = os.path.join(project_dir, \"temp_img\")\n",
    "    os.makedirs(temp_dir, exist_ok=True)\n",
    "    problem_path = os.path.join(temp_dir, \"problem_grid.png\")\n",
    "    choice_path = os.path.join(temp_dir, \"choices_plot.png\")\n",
    "\n",
    "    save_problem_grid(image, problem_path)\n",
    "    save_choices_plot(image, target, choice_path)\n",
    "\n",
    "    grid_img = Image.open(problem_path)\n",
    "    choice_img = Image.open(choice_path)\n",
    "\n",
    "    w = max(grid_img.width, choice_img.width)\n",
    "    h = grid_img.height + choice_img.height\n",
    "    combined = Image.new(\"RGB\", (w, h), (255, 255, 255))\n",
    "    combined.paste(grid_img, ((w - grid_img.width) // 2, 0))\n",
    "    combined.paste(choice_img, ((w - choice_img.width) // 2, grid_img.height))\n",
    "\n",
    "    output_name = f\"{row['File_Name']}_val.png\"\n",
    "    combined.save(os.path.join(output_folder, output_name))\n",
    "\n",
    "    # === Track info for output file ===\n",
    "    records.append({\n",
    "        'Design': row['Design'],\n",
    "        'Numer/Position_0': row['Numer/Position_0'],\n",
    "        'Type_0': row['Type_0'],\n",
    "        'Size_0': row['Size_0'],\n",
    "        'Color_0': row['Color_0'],\n",
    "        'Number/Position_1': row['Number/Position_1'],\n",
    "        'Type_1': row['Type_1'],\n",
    "        'Size_1': row['Size_1'],\n",
    "        'Color_1': row['Color_1'],\n",
    "        'File_Name': output_name,\n",
    "        'Manual_Correct_Choice': row['New Correct Choice'],\n",
    "        'NPZ_Correct_Choice': target_plus_one\n",
    "    })"
   ],
   "id": "2f0fd754f747546",
   "outputs": [],
   "execution_count": 7
  },
  {
   "metadata": {
    "ExecuteTime": {
     "end_time": "2025-07-07T04:31:00.367501Z",
     "start_time": "2025-07-07T04:31:00.300083Z"
    }
   },
   "cell_type": "code",
   "source": [
    "# === Save to Excel ===\n",
    "if records:\n",
    "    final_df = pd.DataFrame(records)\n",
    "    output_excel_path = os.path.join(output_folder, 'result_df_selected.xlsx')\n",
    "    final_df.to_excel(output_excel_path, index=False)\n",
    "    print(f\"✅ Cross-check file saved to: {output_excel_path}\")\n",
    "else:\n",
    "    print(\"⚠️ No records processed. Check if New_Item values exist and paths are correct.\")"
   ],
   "id": "f5f72e9f7765fd08",
   "outputs": [
    {
     "name": "stdout",
     "output_type": "stream",
     "text": [
      "✅ Cross-check file saved to: C:\\Users\\dinos\\PycharmProjects\\refactored_SRAN\\image\\result_df_selected.xlsx\n"
     ]
    }
   ],
   "execution_count": 8
  }
 ],
 "metadata": {
  "kernelspec": {
   "display_name": "Python 3",
   "language": "python",
   "name": "python3"
  },
  "language_info": {
   "codemirror_mode": {
    "name": "ipython",
    "version": 2
   },
   "file_extension": ".py",
   "mimetype": "text/x-python",
   "name": "python",
   "nbconvert_exporter": "python",
   "pygments_lexer": "ipython2",
   "version": "2.7.6"
  }
 },
 "nbformat": 4,
 "nbformat_minor": 5
}
