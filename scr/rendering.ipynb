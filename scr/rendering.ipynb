{
 "cells": [
  {
   "cell_type": "code",
   "id": "initial_id",
   "metadata": {
    "collapsed": true,
    "ExecuteTime": {
     "end_time": "2025-07-05T02:31:42.068650Z",
     "start_time": "2025-07-05T02:31:39.962963Z"
    }
   },
   "source": [
    "import os\n",
    "import numpy as np\n",
    "import matplotlib.pyplot as plt\n",
    "from matplotlib.patches import Rectangle\n",
    "from PIL import Image, ImageOps\n",
    "\n",
    "# Load your RAVEN data\n",
    "current_dir = os.getcwd()\n",
    "project_dir = os.path.dirname(current_dir)\n",
    "data_dir = os.path.join(project_dir, 'output_increased_size', 'left_center_single_right_center_single')\n",
    "raven_dir1 = os.path.join(data_dir, 'RAVEN_0_train.npz')\n",
    "raven_1 = np.load(raven_dir1)\n",
    "image = raven_1['image']\n",
    "target = raven_1['target']\n",
    "\n",
    "# Function to save the problem grid plot\n",
    "def save_problem_grid(image, filename):\n",
    "    fig = plt.figure(figsize=(10, 10))  # Increase the figure size for the problem grid\n",
    "\n",
    "    fig.suptitle(t='Center Single', y=0.98, size=20)\n",
    "\n",
    "    for i in range(8):\n",
    "        ax = plt.subplot(3, 3, i + 1)\n",
    "        ax.imshow(image[i], cmap='gray', aspect='equal')\n",
    "        ax.axis('off')\n",
    "        rect = Rectangle((0, 0), 1, 1, transform=ax.transAxes, color='gray', fill=False, lw=1.8)\n",
    "        ax.add_patch(rect)\n",
    "\n",
    "    ax = plt.subplot(3, 3, 9)\n",
    "    ax.text(0.5, 0.5, '?', fontsize=40, ha='center', va='center')\n",
    "    ax.axis('off')\n",
    "    rect = Rectangle((0, 0), 1, 1, transform=ax.transAxes, color='gray', fill=False, lw=1.8)\n",
    "    ax.add_patch(rect)\n",
    "\n",
    "    plt.subplots_adjust(wspace=0.1, hspace=0.1)\n",
    "    plt.savefig(filename)\n",
    "    plt.close(fig)\n",
    "\n",
    "# Function to save the choices plot\n",
    "def save_choices_plot(image, target, filename):\n",
    "    fig = plt.figure(figsize=(12, 6))  # Increase the figure size for the choices plot\n",
    "\n",
    "    for i in range(8, 16):\n",
    "        ax = plt.subplot(2, 4, i - 7)\n",
    "        if i - 8 == target:\n",
    "            ax.set_title(\"Correct choice\")\n",
    "        else:\n",
    "            ax.set_title(f\"Choice {i-7}\")\n",
    "        ax.imshow(image[i], cmap='gray')\n",
    "        ax.axis('off')\n",
    "        rect = Rectangle((0, 0), 1, 1, transform=ax.transAxes, color='gray', fill=False, lw=1.8)\n",
    "        ax.add_patch(rect)\n",
    "    plt.subplots_adjust(wspace=0.1, hspace=0.3)\n",
    "    plt.savefig(filename)\n",
    "    plt.close(fig)\n",
    "\n",
    "# Save the plots individually\n",
    "problem_grid_filename = \"problem_grid.png\"\n",
    "choices_plot_filename = \"choices_plot.png\"\n",
    "save_problem_grid(image, problem_grid_filename)\n",
    "save_choices_plot(image, target, choices_plot_filename)\n",
    "\n",
    "# Combine the two images vertically and center them\n",
    "problem_grid = Image.open(problem_grid_filename)\n",
    "choices_plot = Image.open(choices_plot_filename)\n",
    "\n",
    "combined_width = max(problem_grid.width, choices_plot.width)\n",
    "combined_height = problem_grid.height + choices_plot.height\n",
    "\n",
    "combined_image = Image.new(\"RGB\", (combined_width, combined_height), (255, 255, 255))\n",
    "combined_image.paste(problem_grid, ((combined_width - problem_grid.width) // 2, 0))\n",
    "combined_image.paste(choices_plot, ((combined_width - choices_plot.width) // 2, problem_grid.height))\n",
    "\n",
    "# Save the combined image\n",
    "combined_image.save(\"test.png\")\n",
    "combined_image.show()"
   ],
   "outputs": [
    {
     "ename": "FileNotFoundError",
     "evalue": "[Errno 2] No such file or directory: 'C:\\\\Users\\\\dinos\\\\PycharmProjects\\\\refactored_SRAN\\\\output_increased_size\\\\left_center_single_right_center_single\\\\RAVEN_0_train.npz'",
     "output_type": "error",
     "traceback": [
      "\u001B[31m---------------------------------------------------------------------------\u001B[39m",
      "\u001B[31mFileNotFoundError\u001B[39m                         Traceback (most recent call last)",
      "\u001B[36mCell\u001B[39m\u001B[36m \u001B[39m\u001B[32mIn[1]\u001B[39m\u001B[32m, line 12\u001B[39m\n\u001B[32m     10\u001B[39m data_dir = os.path.join(project_dir, \u001B[33m'\u001B[39m\u001B[33moutput_increased_size\u001B[39m\u001B[33m'\u001B[39m, \u001B[33m'\u001B[39m\u001B[33mleft_center_single_right_center_single\u001B[39m\u001B[33m'\u001B[39m)\n\u001B[32m     11\u001B[39m raven_dir1 = os.path.join(data_dir, \u001B[33m'\u001B[39m\u001B[33mRAVEN_0_train.npz\u001B[39m\u001B[33m'\u001B[39m)\n\u001B[32m---> \u001B[39m\u001B[32m12\u001B[39m raven_1 = \u001B[43mnp\u001B[49m\u001B[43m.\u001B[49m\u001B[43mload\u001B[49m\u001B[43m(\u001B[49m\u001B[43mraven_dir1\u001B[49m\u001B[43m)\u001B[49m\n\u001B[32m     13\u001B[39m image = raven_1[\u001B[33m'\u001B[39m\u001B[33mimage\u001B[39m\u001B[33m'\u001B[39m]\n\u001B[32m     14\u001B[39m target = raven_1[\u001B[33m'\u001B[39m\u001B[33mtarget\u001B[39m\u001B[33m'\u001B[39m]\n",
      "\u001B[36mFile \u001B[39m\u001B[32m~\\PycharmProjects\\glassdoor-review-scraper\\.venv\\Lib\\site-packages\\numpy\\lib\\_npyio_impl.py:454\u001B[39m, in \u001B[36mload\u001B[39m\u001B[34m(file, mmap_mode, allow_pickle, fix_imports, encoding, max_header_size)\u001B[39m\n\u001B[32m    452\u001B[39m     own_fid = \u001B[38;5;28;01mFalse\u001B[39;00m\n\u001B[32m    453\u001B[39m \u001B[38;5;28;01melse\u001B[39;00m:\n\u001B[32m--> \u001B[39m\u001B[32m454\u001B[39m     fid = stack.enter_context(\u001B[38;5;28;43mopen\u001B[39;49m\u001B[43m(\u001B[49m\u001B[43mos\u001B[49m\u001B[43m.\u001B[49m\u001B[43mfspath\u001B[49m\u001B[43m(\u001B[49m\u001B[43mfile\u001B[49m\u001B[43m)\u001B[49m\u001B[43m,\u001B[49m\u001B[43m \u001B[49m\u001B[33;43m\"\u001B[39;49m\u001B[33;43mrb\u001B[39;49m\u001B[33;43m\"\u001B[39;49m\u001B[43m)\u001B[49m)\n\u001B[32m    455\u001B[39m     own_fid = \u001B[38;5;28;01mTrue\u001B[39;00m\n\u001B[32m    457\u001B[39m \u001B[38;5;66;03m# Code to distinguish from NumPy binary files and pickles.\u001B[39;00m\n",
      "\u001B[31mFileNotFoundError\u001B[39m: [Errno 2] No such file or directory: 'C:\\\\Users\\\\dinos\\\\PycharmProjects\\\\refactored_SRAN\\\\output_increased_size\\\\left_center_single_right_center_single\\\\RAVEN_0_train.npz'"
     ]
    }
   ],
   "execution_count": 1
  },
  {
   "metadata": {},
   "cell_type": "code",
   "outputs": [],
   "execution_count": null,
   "source": "",
   "id": "1e76033212f6a1ab"
  }
 ],
 "metadata": {
  "kernelspec": {
   "display_name": "Python 3",
   "language": "python",
   "name": "python3"
  },
  "language_info": {
   "codemirror_mode": {
    "name": "ipython",
    "version": 2
   },
   "file_extension": ".py",
   "mimetype": "text/x-python",
   "name": "python",
   "nbconvert_exporter": "python",
   "pygments_lexer": "ipython2",
   "version": "2.7.6"
  }
 },
 "nbformat": 4,
 "nbformat_minor": 5
}
